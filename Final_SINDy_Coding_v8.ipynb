{
 "cells": [
  {
   "cell_type": "markdown",
   "id": "82238762-a75f-4925-8d83-d20c7264cce0",
   "metadata": {
    "id": "82238762-a75f-4925-8d83-d20c7264cce0"
   },
   "source": [
    "# STAT 790 : SINDy Project"
   ]
  },
  {
   "cell_type": "markdown",
   "id": "1-4mB2MImDbK",
   "metadata": {
    "id": "1-4mB2MImDbK"
   },
   "source": [
    "## Python Libararies, etc\n"
   ]
  },
  {
   "cell_type": "code",
   "execution_count": 1,
   "id": "McpqmtI-ixss",
   "metadata": {
    "colab": {
     "base_uri": "https://localhost:8080/"
    },
    "collapsed": true,
    "id": "McpqmtI-ixss",
    "jupyter": {
     "outputs_hidden": true
    },
    "outputId": "c9b42b2a-1b28-4de4-a679-675e333fcb64"
   },
   "outputs": [
    {
     "name": "stdout",
     "output_type": "stream",
     "text": [
      "Requirement already satisfied: pysindy in /usr/local/lib/python3.10/dist-packages (1.7.5)\n",
      "Requirement already satisfied: scikit-learn>=0.23 in /usr/local/lib/python3.10/dist-packages (from pysindy) (1.2.2)\n",
      "Requirement already satisfied: numpy in /usr/local/lib/python3.10/dist-packages (from pysindy) (1.25.2)\n",
      "Requirement already satisfied: scipy in /usr/local/lib/python3.10/dist-packages (from pysindy) (1.11.4)\n",
      "Requirement already satisfied: derivative in /usr/local/lib/python3.10/dist-packages (from pysindy) (0.6.1)\n",
      "Requirement already satisfied: matplotlib in /usr/local/lib/python3.10/dist-packages (from pysindy) (3.7.1)\n",
      "Requirement already satisfied: cmake in /usr/local/lib/python3.10/dist-packages (from pysindy) (3.27.9)\n",
      "Requirement already satisfied: scs!=2.1.4,>=2.1 in /usr/local/lib/python3.10/dist-packages (from pysindy) (3.2.4.post1)\n",
      "Requirement already satisfied: joblib>=1.1.1 in /usr/local/lib/python3.10/dist-packages (from scikit-learn>=0.23->pysindy) (1.4.2)\n",
      "Requirement already satisfied: threadpoolctl>=2.0.0 in /usr/local/lib/python3.10/dist-packages (from scikit-learn>=0.23->pysindy) (3.5.0)\n",
      "Requirement already satisfied: contourpy>=1.0.1 in /usr/local/lib/python3.10/dist-packages (from matplotlib->pysindy) (1.2.1)\n",
      "Requirement already satisfied: cycler>=0.10 in /usr/local/lib/python3.10/dist-packages (from matplotlib->pysindy) (0.12.1)\n",
      "Requirement already satisfied: fonttools>=4.22.0 in /usr/local/lib/python3.10/dist-packages (from matplotlib->pysindy) (4.51.0)\n",
      "Requirement already satisfied: kiwisolver>=1.0.1 in /usr/local/lib/python3.10/dist-packages (from matplotlib->pysindy) (1.4.5)\n",
      "Requirement already satisfied: packaging>=20.0 in /usr/local/lib/python3.10/dist-packages (from matplotlib->pysindy) (24.0)\n",
      "Requirement already satisfied: pillow>=6.2.0 in /usr/local/lib/python3.10/dist-packages (from matplotlib->pysindy) (9.4.0)\n",
      "Requirement already satisfied: pyparsing>=2.3.1 in /usr/local/lib/python3.10/dist-packages (from matplotlib->pysindy) (3.1.2)\n",
      "Requirement already satisfied: python-dateutil>=2.7 in /usr/local/lib/python3.10/dist-packages (from matplotlib->pysindy) (2.8.2)\n",
      "Requirement already satisfied: six>=1.5 in /usr/local/lib/python3.10/dist-packages (from python-dateutil>=2.7->matplotlib->pysindy) (1.16.0)\n"
     ]
    }
   ],
   "source": [
    "pip install pysindy"
   ]
  },
  {
   "cell_type": "markdown",
   "id": "PcDJShjEyc4S",
   "metadata": {
    "id": "PcDJShjEyc4S",
    "jp-MarkdownHeadingCollapsed": true
   },
   "source": [
    "### incomplete log of attempt to suppress sparsity error\n"
   ]
  },
  {
   "cell_type": "code",
   "execution_count": 2,
   "id": "PLy3BzVen0e0",
   "metadata": {
    "collapsed": true,
    "id": "PLy3BzVen0e0",
    "jupyter": {
     "outputs_hidden": true
    }
   },
   "outputs": [],
   "source": [
    "#!/usr/bin/env python -W ignore::UserWarning\n"
   ]
  },
  {
   "cell_type": "code",
   "execution_count": 3,
   "id": "w-F3O1mKm4qj",
   "metadata": {
    "colab": {
     "base_uri": "https://localhost:8080/",
     "height": 0
    },
    "id": "w-F3O1mKm4qj",
    "outputId": "f304ebcb-5033-4ef4-a3a5-44b4080c6a67"
   },
   "outputs": [
    {
     "data": {
      "application/vnd.google.colaboratory.intrinsic+json": {
       "type": "string"
      },
      "text/plain": [
       "'\\nimport warnings\\nwith warnings.catch_warnings():\\n  warnings.filterwarnings(\"ignore\") #,category=UserWarning)\\n  #import pysindy as ps\\n\\nimport warnings\\n\\ndef suppress_warnings(func):\\n  \"\"\"Decorator to suppress warnings during function execution.\"\"\"\\n  @wraps(func)\\n  def wrapper(*args, **kwargs):\\n    with warnings.catch_warnings():\\n      warnings.simplefilter(\"ignore\")  # Ignore all warnings within the function\\n      return func(*args, **kwargs)\\n  return wrapper\\n'"
      ]
     },
     "execution_count": 3,
     "metadata": {},
     "output_type": "execute_result"
    }
   ],
   "source": [
    "# pysindy.optimizers.stlsq.py throws tons of useless userwarnings\n",
    "# rectification should happen first, but nothing works!!\n",
    "# tried numerous wrappers, warnings, etc # mostly right at error() def\n",
    "\n",
    "'''\n",
    "import warnings\n",
    "with warnings.catch_warnings():\n",
    "  warnings.filterwarnings(\"ignore\") #,category=UserWarning)\n",
    "  #import pysindy as ps\n",
    "\n",
    "import warnings\n",
    "\n",
    "def suppress_warnings(func):\n",
    "  \"\"\"Decorator to suppress warnings during function execution.\"\"\"\n",
    "  @wraps(func)\n",
    "  def wrapper(*args, **kwargs):\n",
    "    with warnings.catch_warnings():\n",
    "      warnings.simplefilter(\"ignore\")  # Ignore all warnings within the function\n",
    "      return func(*args, **kwargs)\n",
    "  return wrapper\n",
    "'''\n"
   ]
  },
  {
   "cell_type": "markdown",
   "id": "zfz-g35oyZBO",
   "metadata": {
    "id": "zfz-g35oyZBO"
   },
   "source": [
    "### necessary libraries\n"
   ]
  },
  {
   "cell_type": "code",
   "execution_count": 1,
   "id": "763a5e7a-d735-4a70-a25e-0f2ef42bb926",
   "metadata": {
    "id": "763a5e7a-d735-4a70-a25e-0f2ef42bb926"
   },
   "outputs": [],
   "source": [
    "# Packages needed to import\n",
    "\n",
    "# data  methods\n",
    "import numpy as np\n",
    "from scipy.integrate import solve_ivp\n",
    "from scipy.interpolate import griddata\n",
    "from scipy.io import loadmat\n",
    "\n",
    "# output methods\n",
    "import matplotlib.pyplot as plt\n",
    "from matplotlib.cm import rainbow\n",
    "from mpl_toolkits.mplot3d import Axes3D\n",
    "import pandas as pd\n",
    "import seaborn as sbn\n",
    "from tabulate import tabulate\n",
    "\n",
    "# pysindy\n",
    "import pysindy as ps\n",
    "#ps.VERBOSE = 0 # doesnt work # no matter where located # here for completeness\n",
    "from pysindy.utils import linear_damped_SHO\n",
    "from pysindy.utils import cubic_damped_SHO\n",
    "from pysindy.utils import linear_3D\n",
    "from pysindy.utils import hopf\n",
    "from pysindy.utils import lorenz\n",
    "\n",
    "### settings\n",
    "\n",
    "#np.random.seed(1000)  # Seed for reproducibility # meaningless here bc pysindy?\n",
    "\n",
    "# Integrator keywords for sciypy.integrate.solve_ivp\n",
    "integrator_keywords = {}\n",
    "integrator_keywords['rtol'] = 1e-12\n",
    "integrator_keywords['method'] = 'LSODA'\n",
    "integrator_keywords['atol'] = 1e-12\n"
   ]
  },
  {
   "cell_type": "markdown",
   "id": "853a10d6-12ed-46c5-ba75-4bb6dddf556f",
   "metadata": {
    "id": "853a10d6-12ed-46c5-ba75-4bb6dddf556f"
   },
   "source": [
    "## Initial Condition\n"
   ]
  },
  {
   "cell_type": "code",
   "execution_count": 2,
   "id": "8e9be6a4-7dad-4191-9121-1dc49d7e0ed7",
   "metadata": {
    "colab": {
     "base_uri": "https://localhost:8080/",
     "height": 559
    },
    "id": "8e9be6a4-7dad-4191-9121-1dc49d7e0ed7",
    "outputId": "04922a3d-e81c-4a08-fbf5-6666a56afd98"
   },
   "outputs": [
    {
     "name": "stdout",
     "output_type": "stream",
     "text": [
      "0 [6.53589585 1.15006943]\n",
      "1 [9.50282864 4.82191401]\n",
      "2 [8.72474535 2.12332681]\n",
      "3 [0.40709625 3.97194461]\n",
      "4 [2.33132197 8.41740724]\n",
      "5 [2.07082344 7.42469534]\n",
      "6 [3.92154128 1.8225652 ]\n",
      "7 [7.43539415 0.69582081]\n",
      "8 [8.85337204 9.52644399]\n",
      "9 [9.31143435 4.15430953]\n",
      "10 [0.28981659 9.82027485]\n",
      "11 [3.39637684 7.06687194]\n",
      "12 [3.61877068 0.35105898]\n",
      "13 [8.55058253 6.57253508]\n",
      "14 [7.65682994 5.54087238]\n",
      "15 [8.85092937 9.04197615]\n",
      "16 [0.10421701 0.74556736]\n",
      "17 [2.4462921  1.33304752]\n",
      "18 [6.979251   3.98204884]\n",
      "19 [8.83122191 1.8100751 ]\n",
      "20 [4.32499172 0.18143203]\n",
      "21 [6.91437862 4.69690652]\n",
      "22 [1.2822219  8.91337051]\n",
      "23 [9.18203624 0.73120994]\n",
      "24 [0.45447943 4.38572896]\n",
      "25 [6.0172093  3.10227034]\n",
      "26 [6.81908242 2.09013151]\n",
      "27 [5.19604297 5.65988831]\n",
      "28 [4.41167393 1.37556157]\n",
      "29 [2.13543191 1.33371892]\n",
      "30 [3.22296701 2.33887115]\n",
      "31 [5.27498156 5.65971162]\n",
      "32 [4.38225285 3.21872624]\n",
      "33 [5.59640811 8.65345581]\n",
      "34 [8.47282877 1.07817166]\n",
      "35 [3.16319484 4.09478659]\n",
      "36 [6.87089014 7.02235287]\n",
      "37 [4.46197944 4.20322078]\n",
      "38 [8.02630591 5.38617565]\n",
      "39 [9.23500489 0.61907537]\n",
      "40 [3.67583453 9.70398772]\n",
      "41 [6.99103948 8.9097558 ]\n",
      "42 [2.53552718 7.25527106]\n",
      "43 [2.03494435 5.37511824]\n",
      "44 [2.36943004 4.3649216 ]\n",
      "45 [7.98024514 3.08409165]\n",
      "46 [6.21516629 4.39648118]\n",
      "47 [9.13323705 6.58685903]\n",
      "48 [6.53631448 3.58457783]\n",
      "49 [5.22941567 0.45087312]\n",
      "50 [0.94309662 9.21612193]\n",
      "51 [0.73044501 9.29417355]\n",
      "52 [7.17015137 6.22310546]\n",
      "53 [7.54989714 1.41669909]\n",
      "54 [7.93822198 7.2540315 ]\n",
      "55 [5.41439281 4.82584493]\n",
      "56 [4.7647761 4.4603283]\n",
      "57 [8.16070062 2.74351493]\n",
      "58 [0.61962008 9.60296342]\n",
      "59 [4.5811813  7.57892064]\n",
      "60 [6.81158603 5.41777926]\n",
      "61 [1.3283249  2.53205635]\n",
      "62 [4.43855593 5.58749907]\n",
      "63 [8.13864355 3.17828336]\n",
      "64 [3.97045093 8.90168248]\n",
      "65 [8.25416208 1.06687083]\n",
      "66 [1.59775876 6.51219309]\n",
      "67 [5.69064213 9.84083673]\n",
      "68 [7.49159013 8.02399631]\n",
      "69 [2.2830988  5.18713446]\n",
      "70 [6.30108403 0.02185361]\n",
      "71 [5.13214766 4.49190169]\n",
      "72 [3.4935635  2.73681259]\n",
      "73 [9.02082866 0.3097446 ]\n",
      "74 [3.2416909  2.86592748]\n",
      "75 [9.57136079 0.16533066]\n",
      "76 [4.57323673 3.24935796]\n",
      "77 [6.96463396 6.92749762]\n",
      "78 [6.82646069 8.92130458]\n",
      "79 [9.45578003 0.81807525]\n",
      "80 [1.16889221 0.36868967]\n",
      "81 [9.23790206 9.81900792]\n",
      "82 [3.76625253 0.63476007]\n",
      "83 [1.27856463 8.79888875]\n",
      "84 [4.54048135 1.99491062]\n",
      "85 [6.26031872 7.76429406]\n",
      "86 [4.64548194 0.40366818]\n",
      "87 [3.7390116  8.66918447]\n",
      "88 [1.03205527 1.1251112 ]\n",
      "89 [7.80134001 1.35048826]\n",
      "90 [1.28558472 2.40503175]\n",
      "91 [2.918108   3.33236475]\n",
      "92 [7.92164016 2.44346928]\n",
      "93 [1.0538486  1.17080721]\n",
      "94 [3.59351125 2.33940328]\n",
      "95 [8.28130226 6.10787648]\n",
      "96 [2.89990694 9.97438489]\n",
      "97 [4.19241701 8.94722694]\n",
      "98 [2.88246164 3.13444922]\n",
      "99 [9.80561457 0.89136869]\n"
     ]
    },
    {
     "data": {
      "image/png": "[encoded data removed]",
      "text/plain": [
       "<Figure size 640x480 with 1 Axes>"
      ]
     },
     "metadata": {},
     "output_type": "display_data"
    }
   ],
   "source": [
    "# Generating a sample of points from a Uniform Distribution\n",
    "\n",
    "import random # get rid of this one in favor of numpy.random\n",
    "\n",
    "sample_size =  100\n",
    "observation_size = 2\n",
    "\n",
    "sampleofICs = []\n",
    "\n",
    "if False:\n",
    "  for i in range(sample_size):\n",
    "      observation = [random.uniform(0, 10) for i in range(observation_size)]\n",
    "      sampleofICs.append(observation)\n",
    "\n",
    "else:\n",
    "  # Use numpy.random.uniform to generate random samples\n",
    "  np.random.seed(1000) # needs to happen here if repeatable # bc pysindy?\n",
    "  for i in range(sample_size):\n",
    "      observation = np.random.uniform(low=0.0, high=10.0, size=observation_size)\n",
    "      print(i,observation)\n",
    "      sampleofICs.append(observation.tolist())\n",
    "\n",
    "# Shows all sample of random points drawn from a Uniform Distribution\n",
    "# print(sampleofICs)\n",
    "\n",
    "# Extract X and Y values from sample\n",
    "\n",
    "x_values = [obs[0] for obs in sampleofICs]\n",
    "y_values = [obs[1] for obs in sampleofICs]\n",
    "\n",
    "# print(\"X values:\", x_values)\n",
    "# print(\"Y values:\", y_values)\n",
    "\n",
    "# Plotting the sample of random points on a Cartesian plane\n",
    "\n",
    "plt.plot(x_values, y_values, 'bo')  # Plot x and y values\n",
    "plt.xlabel('X values')\n",
    "plt.ylabel('Y values')\n",
    "plt.title('Scatter Plot of Sample')\n",
    "plt.show()"
   ]
  },
  {
   "cell_type": "markdown",
   "id": "bdef38a3-7c0f-4d0d-b15e-307b852d0b6c",
   "metadata": {
    "id": "bdef38a3-7c0f-4d0d-b15e-307b852d0b6c"
   },
   "source": [
    "## Defining Error Function\n"
   ]
  },
  {
   "cell_type": "code",
   "execution_count": 3,
   "id": "aa7a5e71-af33-4d18-83ab-ad92d8a1c192",
   "metadata": {
    "id": "aa7a5e71-af33-4d18-83ab-ad92d8a1c192"
   },
   "outputs": [],
   "source": [
    "# Function that calculates the error\n",
    "\n",
    "def error_function(initial_condition,threshold):\n",
    "\n",
    "    #def linear_SHO_general(a_11,a_12,a_21,a_22):\n",
    "        #return [a_11 * x[0] + a_12 * x[1], a_21 * x[0] + a_22 * x[1]]\n",
    "\n",
    "    #print(linear_SHO_general(1,2,3,4))\n",
    "    \n",
    "    #def linear_SHO(t, x):\n",
    "        #return linear_SHO_general(a_11,a_12,a_21,a_22)\n",
    "        #linear_SHO_general(a_11,a_12,a_21,a_22)\n",
    "        #return [a_11 * x[0] + a_12 * x[1], a_21 * x[0] + a_22 * x[1]]\n",
    "\n",
    "    #linear_SHO\n",
    "    \n",
    "    dt = 0.01\n",
    "    t_train = np.arange(0, 25, dt)\n",
    "    t_train_span = (t_train[0], t_train[-1])\n",
    "    x0_train = initial_condition\n",
    "    x_train = solve_ivp(linear_damped_SHO, t_train_span,\n",
    "                    x0_train, t_eval=t_train, **integrator_keywords).y.T\n",
    "\n",
    "    poly_order = 4\n",
    "\n",
    "    model = ps.SINDy(\n",
    "        optimizer=ps.SR3(threshold=threshold),\n",
    "        feature_library=ps.PolynomialLibrary(degree=poly_order),\n",
    "    )\n",
    "    # Fit SINDy model to data\n",
    "    model.fit(x_train, t=dt)\n",
    "\n",
    "    # Coefficients of the model\n",
    "    # a_11 = -0.1\n",
    "    # a_12 = 2.0\n",
    "    # a_21 = -2.0\n",
    "    # a_22 = -0.1\n",
    "\n",
    "    # Coefficients of the model\n",
    "    a_11 = 1.0\n",
    "    a_12 = -10\n",
    "    a_21 = 5.0\n",
    "    a_22 = 6.0\n",
    "\n",
    "    \n",
    "    # Relabeling the coefficients of the SINDy model\n",
    "    b_11 = model.coefficients()[0,1]\n",
    "    b_12 = model.coefficients()[0,2]\n",
    "    b_21 = model.coefficients()[1,1]\n",
    "    b_22 = model.coefficients()[1,2]\n",
    "\n",
    "    # Computing the differences\n",
    "    c_11 = a_11 - b_11\n",
    "    c_12 = a_12 - b_12\n",
    "    c_21 = a_12 - b_21\n",
    "    c_22 = a_22 - b_22\n",
    "\n",
    "    # Error Vector\n",
    "    error_vector = np.array([c_11,c_12,c_21,c_22])\n",
    "\n",
    "    # Compute error between matrices a and b\n",
    "    # error = np.abs(a_11 - b_11) + np.abs(a_12 - b_12) + np.abs(a_21 - b_21) + np.abs(a_22 - b_22) # L1 norm\n",
    "    # error = np.linalg.norm(error_vector) # L2 norm\n",
    "    error = pow(a_11 - b_11,2) + pow(a_12 - b_12,2) + pow(a_21 - b_21,2) + pow(a_22 - b_22,2) # SE\n",
    "    error = error/4 # MSE\n",
    "\n",
    "    # error = int(error*1000)/1000. # ugly\n",
    "\n",
    "    return error\n"
   ]
  },
  {
   "cell_type": "code",
   "execution_count": null,
   "id": "f72c6e1b-5e58-463e-a043-07f5c353b1fc",
   "metadata": {
    "colab": {
     "base_uri": "https://localhost:8080/"
    },
    "id": "f72c6e1b-5e58-463e-a043-07f5c353b1fc",
    "outputId": "365aebb0-823a-4c9e-c19f-ae6962a89273"
   },
   "outputs": [
    {
     "name": "stderr",
     "output_type": "stream",
     "text": [
      "Traceback (most recent call last):\n",
      "capi_return is NULL\n",
      "Call-back cb_f_in_lsoda__user__routines failed.\n",
      "  File \"/Users/edgarrr.cd/anaconda3/envs/homl3/lib/python3.10/site-packages/scipy/integrate/_ivp/base.py\", line 154, in fun\n",
      "Fatal Python error: F2PySwapThreadLocalCallbackPtr: F2PySwapThreadLocalCallbackPtr: PyLong_AsVoidPtr failed\n",
      "Python runtime state: initialized\n",
      "    return self.fun_single(t, y)\n",
      "  File \"/Users/edgarrr.cd/anaconda3/envs/homl3/lib/python3.10/site-packages/scipy/integrate/_ivp/base.py\", line 23, in fun_wrapped\n",
      "    return np.asarray(fun(t, y), dtype=dtype)\n",
      "TypeError: error_function.<locals>.linear_SHO() missing 4 required positional arguments: 'a_21', 'a_22', 't', and 'x'\n"
     ]
    }
   ],
   "source": [
    "error_function([0.2790974374874622, 8.974304515389814],1.0)"
   ]
  },
  {
   "cell_type": "markdown",
   "id": "13aa210f-8ead-47d8-bd3c-0269f8ae1015",
   "metadata": {
    "id": "13aa210f-8ead-47d8-bd3c-0269f8ae1015",
    "jp-MarkdownHeadingCollapsed": true
   },
   "source": [
    "## Finding the thresholds"
   ]
  },
  {
   "cell_type": "markdown",
   "id": "2KkfzynCDjlr",
   "metadata": {
    "id": "2KkfzynCDjlr"
   },
   "source": [
    "###### one algorithm that calls functions a or b\n"
   ]
  },
  {
   "cell_type": "markdown",
   "id": "w0K9fnyTW1FD",
   "metadata": {
    "id": "w0K9fnyTW1FD"
   },
   "source": [
    "The code is the same except for how $h_{i+1}$ depends on $h_i,h_{i-1}$. That logic put in functions and which function selected depending on which problem to solve."
   ]
  },
  {
   "cell_type": "code",
   "execution_count": 25,
   "id": "QlZoc3HyDjls",
   "metadata": {
    "colab": {
     "base_uri": "https://localhost:8080/"
    },
    "id": "QlZoc3HyDjls",
    "outputId": "7561d33f-8975-4822-f3ea-e8eb5fb11f31"
   },
   "outputs": [
    {
     "name": "stdout",
     "output_type": "stream",
     "text": [
      "(x,y)=[6.535895854646095, 1.1500694312440574], h=0.01, z=0.0 at step 0, zeros=1, h_prev=0.01, h0=0.01\n",
      "(x,y)=[6.535895854646095, 1.1500694312440574], h=0.02, z=0.0 at step 1, zeros=2, h_prev=0.01, h0=0.01\n",
      "(x,y)=[6.535895854646095, 1.1500694312440574], h=0.04, z=0.0 at step 2, zeros=3, h_prev=0.02, h0=0.01\n",
      "(x,y)=[9.502828643490245, 4.821914014279982], h=0.04, z=0.0 at step 0, zeros=1, h_prev=0.04, h0=0.04\n",
      "(x,y)=[9.502828643490245, 4.821914014279982], h=0.08, z=0.0 at step 1, zeros=2, h_prev=0.04, h0=0.04\n",
      "(x,y)=[9.502828643490245, 4.821914014279982], h=0.16, z=0.005 at step 2, zeros=2, h_prev=0.08, h0=0.04\n",
      "(x,y)=[9.502828643490245, 4.821914014279982], h=0.12, z=0.005 at step 3, zeros=2, h_prev=0.16, h0=0.04\n",
      "(x,y)=[9.502828643490245, 4.821914014279982], h=0.14, z=0.005 at step 4, zeros=2, h_prev=0.12, h0=0.04\n",
      "(x,y)=[9.502828643490245, 4.821914014279982], h=0.13, z=0.005 at step 5, zeros=2, h_prev=0.14, h0=0.04\n",
      "(x,y)=[9.502828643490245, 4.821914014279982], h=0.135, z=0.005 at step 6, zeros=2, h_prev=0.13, h0=0.04\n",
      "(x,y)=[9.502828643490245, 4.821914014279982], h=0.1325, z=0.005 at step 7, zeros=2, h_prev=0.135, h0=0.04\n",
      "(x,y)=[9.502828643490245, 4.821914014279982], h=0.13375, z=0.005 at step 8, zeros=2, h_prev=0.1325, h0=0.04\n",
      "(x,y)=[9.502828643490245, 4.821914014279982], h=0.133125, z=0.005 at step 9, zeros=2, h_prev=0.13375, h0=0.04\n",
      "(x,y)=[9.502828643490245, 4.821914014279982], h=0.081, z=0.0 at step 0, zeros=3, h_prev=0.081, h0=0.081\n",
      "(x,y)=[8.724745351820353, 2.1233268092271995], h=0.081, z=0.0 at step 0, zeros=1, h_prev=0.081, h0=0.081\n",
      "(x,y)=[8.724745351820353, 2.1233268092271995], h=0.162, z=0.005 at step 1, zeros=1, h_prev=0.081, h0=0.081\n",
      "(x,y)=[8.724745351820353, 2.1233268092271995], h=0.1215, z=0.005 at step 2, zeros=1, h_prev=0.162, h0=0.081\n",
      "(x,y)=[8.724745351820353, 2.1233268092271995], h=0.14175, z=0.005 at step 3, zeros=1, h_prev=0.1215, h0=0.081\n",
      "(x,y)=[8.724745351820353, 2.1233268092271995], h=0.131625, z=0.005 at step 4, zeros=1, h_prev=0.14175, h0=0.081\n",
      "(x,y)=[8.724745351820353, 2.1233268092271995], h=0.1366875, z=0.005 at step 5, zeros=1, h_prev=0.131625, h0=0.081\n",
      "(x,y)=[8.724745351820353, 2.1233268092271995], h=0.13415624999999998, z=0.005 at step 6, zeros=1, h_prev=0.1366875, h0=0.081\n",
      "(x,y)=[8.724745351820353, 2.1233268092271995], h=0.13542187499999997, z=0.005 at step 7, zeros=1, h_prev=0.13415624999999998, h0=0.081\n",
      "(x,y)=[8.724745351820353, 2.1233268092271995], h=0.13478906249999997, z=0.005 at step 8, zeros=1, h_prev=0.13542187499999997, h0=0.081\n",
      "(x,y)=[8.724745351820353, 2.1233268092271995], h=0.13510546874999996, z=0.005 at step 9, zeros=1, h_prev=0.13478906249999997, h0=0.081\n",
      "(x,y)=[8.724745351820353, 2.1233268092271995], h=0.082, z=0.0 at step 0, zeros=2, h_prev=0.082, h0=0.082\n",
      "(x,y)=[8.724745351820353, 2.1233268092271995], h=0.164, z=0.005 at step 1, zeros=2, h_prev=0.082, h0=0.082\n",
      "(x,y)=[8.724745351820353, 2.1233268092271995], h=0.123, z=0.005 at step 2, zeros=2, h_prev=0.164, h0=0.082\n",
      "(x,y)=[8.724745351820353, 2.1233268092271995], h=0.14350000000000002, z=0.005 at step 3, zeros=2, h_prev=0.123, h0=0.082\n",
      "(x,y)=[8.724745351820353, 2.1233268092271995], h=0.13325, z=0.005 at step 4, zeros=2, h_prev=0.14350000000000002, h0=0.082\n",
      "(x,y)=[8.724745351820353, 2.1233268092271995], h=0.13837500000000003, z=0.005 at step 5, zeros=2, h_prev=0.13325, h0=0.082\n",
      "(x,y)=[8.724745351820353, 2.1233268092271995], h=0.1358125, z=0.005 at step 6, zeros=2, h_prev=0.13837500000000003, h0=0.082\n",
      "(x,y)=[8.724745351820353, 2.1233268092271995], h=0.13709375000000001, z=0.005 at step 7, zeros=2, h_prev=0.1358125, h0=0.082\n",
      "(x,y)=[8.724745351820353, 2.1233268092271995], h=0.136453125, z=0.005 at step 8, zeros=2, h_prev=0.13709375000000001, h0=0.082\n",
      "(x,y)=[8.724745351820353, 2.1233268092271995], h=0.1367734375, z=0.005 at step 9, zeros=2, h_prev=0.136453125, h0=0.082\n",
      "(x,y)=[8.724745351820353, 2.1233268092271995], h=0.083, z=0.0 at step 0, zeros=3, h_prev=0.083, h0=0.083\n",
      "(x,y)=[0.40709624769089126, 3.971944613457058], h=0.083, z=0.0 at step 0, zeros=1, h_prev=0.083, h0=0.083\n",
      "(x,y)=[0.40709624769089126, 3.971944613457058], h=0.166, z=0.005 at step 1, zeros=1, h_prev=0.083, h0=0.083\n",
      "(x,y)=[0.40709624769089126, 3.971944613457058], h=0.1245, z=0.005 at step 2, zeros=1, h_prev=0.166, h0=0.083\n",
      "(x,y)=[0.40709624769089126, 3.971944613457058], h=0.14525, z=0.005 at step 3, zeros=1, h_prev=0.1245, h0=0.083\n",
      "(x,y)=[0.40709624769089126, 3.971944613457058], h=0.134875, z=0.005 at step 4, zeros=1, h_prev=0.14525, h0=0.083\n",
      "(x,y)=[0.40709624769089126, 3.971944613457058], h=0.14006249999999998, z=0.005 at step 5, zeros=1, h_prev=0.134875, h0=0.083\n",
      "(x,y)=[0.40709624769089126, 3.971944613457058], h=0.13746874999999997, z=0.005 at step 6, zeros=1, h_prev=0.14006249999999998, h0=0.083\n",
      "(x,y)=[0.40709624769089126, 3.971944613457058], h=0.13876562499999998, z=0.005 at step 7, zeros=1, h_prev=0.13746874999999997, h0=0.083\n",
      "(x,y)=[0.40709624769089126, 3.971944613457058], h=0.13811718749999996, z=0.005 at step 8, zeros=1, h_prev=0.13876562499999998, h0=0.083\n",
      "(x,y)=[0.40709624769089126, 3.971944613457058], h=0.13844140624999995, z=0.005 at step 9, zeros=1, h_prev=0.13811718749999996, h0=0.083\n",
      "(x,y)=[0.40709624769089126, 3.971944613457058], h=0.084, z=0.0 at step 0, zeros=2, h_prev=0.084, h0=0.084\n",
      "(x,y)=[0.40709624769089126, 3.971944613457058], h=0.168, z=0.005 at step 1, zeros=2, h_prev=0.084, h0=0.084\n",
      "(x,y)=[0.40709624769089126, 3.971944613457058], h=0.126, z=0.005 at step 2, zeros=2, h_prev=0.168, h0=0.084\n",
      "(x,y)=[0.40709624769089126, 3.971944613457058], h=0.14700000000000002, z=0.005 at step 3, zeros=2, h_prev=0.126, h0=0.084\n",
      "(x,y)=[0.40709624769089126, 3.971944613457058], h=0.1365, z=0.005 at step 4, zeros=2, h_prev=0.14700000000000002, h0=0.084\n",
      "(x,y)=[0.40709624769089126, 3.971944613457058], h=0.14175000000000001, z=0.005 at step 5, zeros=2, h_prev=0.1365, h0=0.084\n",
      "(x,y)=[0.40709624769089126, 3.971944613457058], h=0.139125, z=0.005 at step 6, zeros=2, h_prev=0.14175000000000001, h0=0.084\n",
      "(x,y)=[0.40709624769089126, 3.971944613457058], h=0.1404375, z=0.005 at step 7, zeros=2, h_prev=0.139125, h0=0.084\n",
      "(x,y)=[0.40709624769089126, 3.971944613457058], h=0.13978125, z=0.005 at step 8, zeros=2, h_prev=0.1404375, h0=0.084\n",
      "(x,y)=[0.40709624769089126, 3.971944613457058], h=0.14010937499999998, z=0.005 at step 9, zeros=2, h_prev=0.13978125, h0=0.084\n",
      "(x,y)=[0.40709624769089126, 3.971944613457058], h=0.085, z=0.0 at step 0, zeros=3, h_prev=0.085, h0=0.085\n",
      "(x,y)=[2.3313219734837998, 8.417407242530615], h=0.085, z=0.0 at step 0, zeros=1, h_prev=0.085, h0=0.085\n",
      "(x,y)=[2.3313219734837998, 8.417407242530615], h=0.17, z=0.005 at step 1, zeros=1, h_prev=0.085, h0=0.085\n",
      "(x,y)=[2.3313219734837998, 8.417407242530615], h=0.1275, z=0.005 at step 2, zeros=1, h_prev=0.17, h0=0.085\n",
      "(x,y)=[2.3313219734837998, 8.417407242530615], h=0.14875, z=0.005 at step 3, zeros=1, h_prev=0.1275, h0=0.085\n",
      "(x,y)=[2.3313219734837998, 8.417407242530615], h=0.138125, z=0.005 at step 4, zeros=1, h_prev=0.14875, h0=0.085\n",
      "(x,y)=[2.3313219734837998, 8.417407242530615], h=0.1434375, z=0.005 at step 5, zeros=1, h_prev=0.138125, h0=0.085\n",
      "(x,y)=[2.3313219734837998, 8.417407242530615], h=0.14078125, z=0.005 at step 6, zeros=1, h_prev=0.1434375, h0=0.085\n",
      "(x,y)=[2.3313219734837998, 8.417407242530615], h=0.14210937499999998, z=0.005 at step 7, zeros=1, h_prev=0.14078125, h0=0.085\n",
      "(x,y)=[2.3313219734837998, 8.417407242530615], h=0.14144531249999998, z=0.005 at step 8, zeros=1, h_prev=0.14210937499999998, h0=0.085\n",
      "(x,y)=[2.3313219734837998, 8.417407242530615], h=0.14177734374999998, z=0.005 at step 9, zeros=1, h_prev=0.14144531249999998, h0=0.085\n",
      "(x,y)=[2.3313219734837998, 8.417407242530615], h=0.08600000000000001, z=0.0 at step 0, zeros=2, h_prev=0.08600000000000001, h0=0.08600000000000001\n",
      "(x,y)=[2.3313219734837998, 8.417407242530615], h=0.17200000000000001, z=0.005 at step 1, zeros=2, h_prev=0.08600000000000001, h0=0.08600000000000001\n",
      "(x,y)=[2.3313219734837998, 8.417407242530615], h=0.129, z=0.005 at step 2, zeros=2, h_prev=0.17200000000000001, h0=0.08600000000000001\n",
      "(x,y)=[2.3313219734837998, 8.417407242530615], h=0.15050000000000002, z=0.005 at step 3, zeros=2, h_prev=0.129, h0=0.08600000000000001\n",
      "(x,y)=[2.3313219734837998, 8.417407242530615], h=0.13975, z=0.005 at step 4, zeros=2, h_prev=0.15050000000000002, h0=0.08600000000000001\n",
      "(x,y)=[2.3313219734837998, 8.417407242530615], h=0.145125, z=0.005 at step 5, zeros=2, h_prev=0.13975, h0=0.08600000000000001\n",
      "(x,y)=[2.3313219734837998, 8.417407242530615], h=0.1424375, z=0.005 at step 6, zeros=2, h_prev=0.145125, h0=0.08600000000000001\n",
      "(x,y)=[2.3313219734837998, 8.417407242530615], h=0.14378125, z=0.005 at step 7, zeros=2, h_prev=0.1424375, h0=0.08600000000000001\n",
      "(x,y)=[2.3313219734837998, 8.417407242530615], h=0.14310937499999998, z=0.005 at step 8, zeros=2, h_prev=0.14378125, h0=0.08600000000000001\n",
      "(x,y)=[2.3313219734837998, 8.417407242530615], h=0.14344531249999998, z=0.005 at step 9, zeros=2, h_prev=0.14310937499999998, h0=0.08600000000000001\n",
      "(x,y)=[2.3313219734837998, 8.417407242530615], h=0.08700000000000001, z=0.0 at step 0, zeros=3, h_prev=0.08700000000000001, h0=0.08700000000000001\n"
     ]
    }
   ],
   "source": [
    "# problem a: smallest threshold ≤ max error # version one\n",
    "# problem b: largest threshold giving best error\n",
    "\n",
    "z = lambda x,threshold,max_error: abs(error_function(x,threshold) - max_error)\n",
    "\n",
    "def next_threshold_problemA(step,error,h0,h1):\n",
    "  # index 0 ~ iteration 1\n",
    "  if step==0:\n",
    "    if error==0:\n",
    "      h_new = h0/2\n",
    "    else:\n",
    "      h_new = 2*h0\n",
    "\n",
    "  else: # index i ~ n : anything after that\n",
    "    if error==0:\n",
    "      h_new = (h1+h0)/2.\n",
    "    else:\n",
    "      h_new = 2*h1\n",
    "  return h_new\n",
    "\n",
    "def next_threshold_problemB(step,error,h0,h1):\n",
    "  # index 0 ~ iteration 1\n",
    "  if step==0:\n",
    "    if error==0:\n",
    "      h_new = 2*h0\n",
    "    else:\n",
    "      h_new = h0/2\n",
    "\n",
    "  else: # index i ~ n : anything after that\n",
    "    if error==0:\n",
    "      h_new = 2*h1\n",
    "    else:\n",
    "      h_new = (h1+h0)/2.\n",
    "  return h_new\n",
    "\n",
    "# configure which run / add new runs here\n",
    "if False:\n",
    "  # case A-00 ~ everything became h = 2.6\n",
    "  h_initial = .1 # intial threshold\n",
    "  i_zeros_max = 3 # maximum number of zeros\n",
    "  b_dynamic_h = False\n",
    "  next_threshold = next_threshold_problemA\n",
    "  max_error = 4.199\n",
    "  s_problem = f\"Problem A, Max Zeros = {i_zeros_max}, $h_0$ = {h_initial}{', Dynamic' if b_dynamic_h else ''}\"\n",
    "elif False:\n",
    "  # case A-01 ~ every x has same h_initial\n",
    "  h_initial = 2.95 # intial threshold # tried 2.6 (output from case 00); tried 2.95 (from case 01)\n",
    "  i_zeros_max = 3 # maximum number of zeros\n",
    "  b_dynamic_h = False\n",
    "  next_threshold = next_threshold_problemA\n",
    "  max_error = 4.199\n",
    "  s_problem = f\"Problem A, Max Zeros = {i_zeros_max}, $h_0$ = {h_initial}{', Dynamic' if b_dynamic_h else ''}\"\n",
    "elif False:\n",
    "  # case A-02 ~ every x[i+1] has h_initial = final h[i] from previous x[i]\n",
    "  h_initial = max_error # intial threshold # tried 2.6 (output from case 00); tried 2.95 (from case 01)\n",
    "  i_zeros_max = 3 # maximum number of zeros\n",
    "  b_dynamic_h = True\n",
    "  next_threshold = next_threshold_problemA\n",
    "  max_error = 4.199\n",
    "  s_problem = f\"Problem A, Max Zeros = {i_zeros_max}, $h_0$ = {h_initial}{', Dynamic' if b_dynamic_h else ''}\"\n",
    "elif False:\n",
    "  # case B-00 ~ everything became h = 0.0008\n",
    "  h_initial = .0001 # intial threshold\n",
    "  i_zeros_max = 3 # maximum number of zeros\n",
    "  b_dynamic_h = False\n",
    "  next_threshold = next_threshold_problemB\n",
    "  max_error = 0\n",
    "  s_problem = f\"Problem B, Max Zeros = {i_zeros_max}, $h_0$ = {h_initial}{', Dynamic' if b_dynamic_h else ''}\"\n",
    "elif False:\n",
    "  # case B-01 ~ every x has same h_initial 0.0008 (output from case 00); tried 0.0064 (from case 01)\n",
    "  h_initial = .0128 # intial threshold # using third attempt at h_initial\n",
    "  i_zeros_max = 3 # maximum number of zeros\n",
    "  b_dynamic_h = False\n",
    "  next_threshold = next_threshold_problemB\n",
    "  max_error = 0\n",
    "  s_problem = f\"Problem B, Max Zeros = {i_zeros_max}, $h_0$ = {h_initial}{', Dynamic' if b_dynamic_h else ''}\"\n",
    "else: # where new x h_initial is successful hi from previous x\n",
    "  # case B-02 ~ every x[i+1] has h_initial = final h[i] from previous x[i]\n",
    "  h_initial = .01 # intial threshold # tried 0.0008 (output from case 00); tried 0.0064 (from case 01)\n",
    "  i_zeros_max = 3 # maximum number of zeros\n",
    "  b_dynamic_h = True\n",
    "  next_threshold = next_threshold_problemB\n",
    "  max_error = 0\n",
    "  s_problem = f\"Problem B, Max Zeros = {i_zeros_max}, $h_0$ = {h_initial}{', Dynamic' if b_dynamic_h else ''}\"\n",
    "\n",
    "i_h_max = 10\n",
    "data = [] # saves threshold per (x,y) in sampleofICs\n",
    "\n",
    "for x in sampleofICs: # \"initial condition\" ~ entire sample of data\n",
    "  i_zeros = 0\n",
    "  i_steps = 0 # total number of iterations to get zeros\n",
    "  h0 = hi = h_save = h_initial\n",
    "  zi = z(x,hi,max_error)\n",
    "\n",
    "  i_h = 0 # while-loop iterations before reset with different h_initial conditions\n",
    "  while (zi >= 0) and (i_h < i_h_max): # per h ~ threshold size\n",
    "    if zi == 0:\n",
    "      i_zeros += 1\n",
    "      h_save = hi\n",
    "\n",
    "    h_new = next_threshold(i_h,zi,h0,hi)\n",
    "    if True:\n",
    "      print(f\"(x,y)={x}, h={hi}, z={zi} at step {i_h}, zeros={i_zeros}, h_prev={h0}, h0={h_initial}\") # for data debug\n",
    "\n",
    "    # various other stopping conditions\n",
    "    if True:\n",
    "      if i_zeros >= i_zeros_max:\n",
    "        # single best ~ to plot\n",
    "        data.append([x,hi,zi,i_zeros,i_steps,h_initial])\n",
    "        if b_dynamic_h:\n",
    "          h_initial = hi # <== case 01+: what changed; instead of using same starting h\n",
    "        break\n",
    "    else:\n",
    "      if False: # debug data for varied results\n",
    "        if i_zeros == i_zeros_max:\n",
    "          h_initial = hi\n",
    "      # all\n",
    "      data.append([x,hi,zi,i_zeros,i_steps,h_initial])\n",
    "    # todo: need accumulated up to best\n",
    "\n",
    "    # reset comparison variables\n",
    "    i_h += 1\n",
    "    i_steps += 1\n",
    "    if (i_h == i_h_max):\n",
    "      # rerun if failed zero condition\n",
    "      #h0 = hi = h_initial = h_save*1.1 # adjusted by 10%\n",
    "      h0 = hi = h_initial = h_save + 0.001 # per three-digit truncation\n",
    "      i_h = 0 # watch out for endless loop\n",
    "    else:\n",
    "      h0 = hi\n",
    "      hi = h_new\n",
    "    zi = z(x,hi,max_error)\n",
    "\n",
    "  if b_dynamic_h and i_zeros < i_zeros_max:\n",
    "    data.append([x,hi,zi,i_zeros,i_steps,h_initial]) # include failures\n"
   ]
  },
  {
   "cell_type": "markdown",
   "id": "996b6aa0-6864-4bb0-827b-32d903d330f1",
   "metadata": {},
   "source": [
    "###### display output in various ways"
   ]
  },
  {
   "cell_type": "code",
   "execution_count": 26,
   "id": "d56f6be4-3e2c-4c76-862e-d21f71c0ec79",
   "metadata": {},
   "outputs": [
    {
     "name": "stdout",
     "output_type": "stream",
     "text": [
      "\n",
      "Problem B, Max Zeros = 3, h_0 = 0.01, Dynamic\n",
      "\n",
      "| (x,y)                                    |   u≡hi |   zi |   zeros |   steps |   h,initial |\n",
      "|------------------------------------------|--------|------|---------|---------|-------------|\n",
      "| [6.535895854646095, 1.1500694312440574]  |  0.04  |    0 |       3 |       2 |       0.01  |\n",
      "| [9.502828643490245, 4.821914014279982]   |  0.081 |    0 |       3 |      10 |       0.081 |\n",
      "| [8.724745351820353, 2.1233268092271995]  |  0.083 |    0 |       3 |      20 |       0.083 |\n",
      "| [0.40709624769089126, 3.971944613457058] |  0.085 |    0 |       3 |      20 |       0.085 |\n",
      "| [2.3313219734837998, 8.417407242530615]  |  0.087 |    0 |       3 |      20 |       0.087 |\n"
     ]
    }
   ],
   "source": [
    "from tabulate import tabulate\n",
    "from copy import deepcopy\n",
    "\n",
    "print(f\"\\n{deepcopy(s_problem).replace('$','')}\\n\") # latex stripped\n",
    "print(tabulate(data, headers=[\"(x,y)\",\"u≡hi\",\"zi\",\"zeros\",\"steps\",\"h,initial\"], tablefmt=\"github\")) # fyi, steps = i-value"
   ]
  },
  {
   "cell_type": "code",
   "execution_count": 27,
   "id": "06d2c7d2-993a-4a7c-86ef-5359a8c3d8c1",
   "metadata": {},
   "outputs": [
    {
     "name": "stdout",
     "output_type": "stream",
     "text": [
      "2D Heatmap of Thresholds\n",
      "Problem B, Max Zeros = 3, $h_0$ = 0.01, Dynamic\n"
     ]
    },
    {
     "data": {
      "image/png": "[encoded data removed]",
      "text/plain": [
       "<Figure size 800x600 with 2 Axes>"
      ]
     },
     "metadata": {},
     "output_type": "display_data"
    }
   ],
   "source": [
    "# Data\n",
    "x = [obs[0] for obs in sampleofICs]\n",
    "y = [obs[1] for obs in sampleofICs]\n",
    "z = [obs[1] for obs in data]\n",
    "\n",
    "# Define grid\n",
    "grid_x,grid_y = np.meshgrid(np.linspace(0,10,100),np.linspace(0,10,100))\n",
    "\n",
    "# Interpolate values onto the grid\n",
    "grid_values = griddata((x,y),z,(grid_x,grid_y),method='linear')\n",
    "\n",
    "# Plot heatmap\n",
    "plt.figure(figsize=(8,6))\n",
    "plt.imshow(grid_values,extent=(0,10,0,10),origin='lower',cmap='coolwarm')\n",
    "plt.colorbar(label='Thresholds')\n",
    "plt.xlabel('x-coordinate')\n",
    "plt.ylabel('y-coordinate')\n",
    "s_wth = f\"2D Heatmap of Thresholds\\n{s_problem}\"\n",
    "print(s_wth)\n",
    "plt.title(s_wth)\n",
    "plt.show()"
   ]
  },
  {
   "cell_type": "markdown",
   "id": "bccf6e07-193f-4403-b6ee-6fc9203b3c8b",
   "metadata": {
    "id": "bccf6e07-193f-4403-b6ee-6fc9203b3c8b"
   },
   "source": [
    "## Bisection Method"
   ]
  },
  {
   "cell_type": "code",
   "execution_count": 5,
   "id": "731d0d4f-c72f-4d0a-b586-8b17fe269812",
   "metadata": {
    "id": "731d0d4f-c72f-4d0a-b586-8b17fe269812"
   },
   "outputs": [],
   "source": [
    "# Define the bisection function\n",
    "\n",
    "def bisection(f,a,b,x,default_error,epsilon=0.0001):\n",
    "  fa = f(x,a,max_error)\n",
    "  fb = f(x,b,max_error)\n",
    "  #print(f\"fa {fa}, {a}\")\n",
    "  #print(f\"fb {fb}, {b}\")\n",
    "  # assumes f(a) and f(b) bracket the best value / root # but it doesnt!\n",
    "  while (b-a)/2. > epsilon:\n",
    "    c = (a+b)/2.\n",
    "    fc = f(x,c,default_error)\n",
    "    #print(f\"fc {fc}, {c}\")\n",
    "    if fc == 0:\n",
    "      break\n",
    "    elif fa*fc < 0:\n",
    "      b = c\n",
    "      # fb = f(b)\n",
    "    else:\n",
    "      a = c\n",
    "      fa = fc\n",
    "  return c\n"
   ]
  },
  {
   "cell_type": "code",
   "execution_count": 10,
   "id": "99f7982f-9100-437a-a466-026e9b782722",
   "metadata": {
    "colab": {
     "base_uri": "https://localhost:8080/"
    },
    "id": "99f7982f-9100-437a-a466-026e9b782722",
    "outputId": "e8686a60-7ac0-4a4f-f339-b0025df05804"
   },
   "outputs": [
    {
     "name": "stdout",
     "output_type": "stream",
     "text": [
      "x: [[6.535895854646095, 1.1500694312440574]], h: 1.9998046875 z=1.9999895344547776\n",
      "x: [[9.502828643490245, 4.821914014279982]], h: 1.9998046875 z=1.9999964066233642\n",
      "x: [[8.724745351820353, 2.1233268092271995]], h: 1.9998046875 z=1.9999908469400411\n",
      "x: [[0.40709624769089126, 3.971944613457058]], h: 1.9998046875 z=1.9999877354789737\n",
      "x: [[2.3313219734837998, 8.417407242530615]], h: 1.9998046875 z=1.9999900770883345\n",
      "x: [[2.070823443867469, 7.424695335824087]], h: 1.9998046875 z=1.999990113580571\n",
      "x: [[3.921541278088413, 1.8225651995238434]], h: 1.9998046875 z=1.9999956030589057\n",
      "x: [[7.4353941459214, 0.6958208096995455]], h: 1.9998046875 z=1.9999882920871792\n",
      "x: [[8.853372043807507, 9.526443992215418]], h: 1.9998046875 z=1.9999997427506642\n",
      "x: [[9.311434346775108, 4.154309530449078]], h: 1.9998046875 z=1.9999952319895584\n",
      "x: [[0.2898165938687125, 9.820274845981977]], h: 1.9998046875 z=1.999987507307757\n",
      "x: [[3.3963768363528857, 7.066871938888038]], h: 1.9998046875 z=1.9999942587957218\n",
      "x: [[3.6187706760756178, 0.3510589795136143]], h: 1.9998046875 z=1.999988333655472\n",
      "x: [[8.55058253240408, 6.572535081404924]], h: 1.9998046875 z=1.9999995322363775\n",
      "x: [[7.656829941452386, 5.5408723800439414]], h: 1.9998046875 z=1.9999992212275373\n",
      "x: [[8.850929366105996, 9.041976153973623]], h: 1.9998046875 z=1.9999998915320363\n",
      "x: [[0.10421700558954194, 0.7455673614242797]], h: 1.9998046875 z=1.9999880444384996\n",
      "x: [[2.446292097597853, 1.3330475245148476]], h: 1.9998046875 z=1.9999970515621912\n",
      "x: [[6.9792510040971925, 3.982048835259351]], h: 1.9998046875 z=1.9999974560906941\n",
      "x: [[8.831221914041427, 1.8100751027370299]], h: 1.9998046875 z=1.9999900739029948\n",
      "x: [[4.324991717920135, 0.18143202754672627]], h: 1.9998046875 z=1.9999877894514657\n",
      "x: [[6.914378616888425, 4.696906520358368]], h: 1.9998046875 z=1.9999988248704352\n",
      "x: [[1.2822218965364773, 8.913370512894591]], h: 1.9998046875 z=1.9999880855007748\n",
      "x: [[9.182036244711153, 0.7312099367876845]], h: 1.9998046875 z=1.9999881331505533\n",
      "x: [[0.45447943230045196, 4.38572895741653]], h: 1.9998046875 z=1.9999877430332622\n",
      "x: [[6.017209299004595, 3.1022703396560014]], h: 1.9998046875 z=1.999996551866474\n",
      "x: [[6.819082419851493, 2.0901315084151517]], h: 1.9998046875 z=1.9999922103384113\n",
      "x: [[5.196042972235348, 5.6598883056907034]], h: 1.9998046875 z=1.9999996982645902\n",
      "x: [[4.411673925875769, 1.3755615720926728]], h: 1.9998046875 z=1.9999923273228914\n",
      "x: [[2.135431911374628, 1.3337189210614298]], h: 1.9998046875 z=1.9999982071249052\n",
      "x: [[3.222967014983108, 2.3388711517462912]], h: 1.9998046875 z=1.9999992372554656\n",
      "x: [[5.274981560198206, 5.659711619765536]], h: 1.9998046875 z=1.999999752691987\n",
      "x: [[4.382252847860598, 3.2187262408010886]], h: 1.9998046875 z=1.9999993043307456\n",
      "x: [[5.59640810692266, 8.653455811845067]], h: 1.9998046875 z=1.999997204493757\n",
      "x: [[8.472828773752214, 1.0781716598511137]], h: 1.9998046875 z=1.9999887409205614\n",
      "x: [[3.1631948397428786, 4.094786588012881]], h: 1.9998046875 z=1.9999987236889278\n",
      "x: [[6.870890139224494, 7.022352874732766]], h: 1.9998046875 z=1.9999998905266632\n",
      "x: [[4.461979441521637, 4.203220780992133]], h: 1.9998046875 z=1.9999999905359649\n",
      "x: [[8.026305910699381, 5.386175653186749]], h: 1.9998046875 z=1.9999987411585283\n",
      "x: [[9.235004894140458, 0.6190753722469144]], h: 1.9998046875 z=1.9999880040193534\n",
      "x: [[3.6758345333880693, 9.703987724504175]], h: 1.9998046875 z=1.9999921332659456\n",
      "x: [[6.991039483608943, 8.909755799272393]], h: 1.9998046875 z=1.9999988358910443\n",
      "x: [[2.5355271839494953, 7.255271058211084]], h: 1.9998046875 z=1.9999915192976132\n",
      "x: [[2.034944349012008, 5.375118237365566]], h: 1.9998046875 z=1.999992128834046\n",
      "x: [[2.3694300372696753, 4.364921597693634]], h: 1.9998046875 z=1.9999954690378694\n",
      "x: [[7.980245135219251, 3.0840916484027527]], h: 1.9998046875 z=1.999993975529314\n",
      "x: [[6.215166285021906, 4.396481176453596]], h: 1.9998046875 z=1.9999990864438177\n",
      "x: [[9.133237054420864, 6.586859031511709]], h: 1.9998046875 z=1.9999992016728037\n",
      "x: [[6.536314481152222, 3.5845778337969847]], h: 1.9998046875 z=1.9999971083195134\n",
      "x: [[5.2294156720310445, 0.45087312324457507]], h: 1.9998046875 z=1.9999882061188663\n",
      "x: [[0.9430966190368961, 9.216121930580364]], h: 1.9998046875 z=1.9999877344110495\n",
      "x: [[0.730445013985126, 9.294173545410587]], h: 1.9998046875 z=1.9999876042056346\n",
      "x: [[7.170151371222513, 6.2231054573934514]], h: 1.9998046875 z=1.9999999238559376\n",
      "x: [[7.549897141156995, 1.416699089686273]], h: 1.9998046875 z=1.9999897464772065\n",
      "x: [[7.938221976974498, 7.254031498883766]], h: 1.9998046875 z=1.9999999851994155\n",
      "x: [[5.414392806173845, 4.825844931634286]], h: 1.9998046875 z=1.9999999636471464\n",
      "x: [[4.764776103724863, 4.460328304400104]], h: 1.9998046875 z=1.999999991327392\n",
      "x: [[8.160700624071426, 2.743514933536939]], h: 1.9998046875 z=1.9999928683575645\n",
      "x: [[0.6196200767784121, 9.602963416635683]], h: 1.9998046875 z=1.9999875523793813\n",
      "x: [[4.5811812991573495, 7.578920644633033]], h: 1.9998046875 z=1.9999965476321826\n",
      "x: [[6.811586028027742, 5.417779257734663]], h: 1.9998046875 z=1.9999996756688072\n",
      "x: [[1.328324895589963, 2.532056348255165]], h: 1.9998046875 z=1.9999951255275334\n",
      "x: [[4.438555930724907, 5.587499066699819]], h: 1.9998046875 z=1.999998921363879\n",
      "x: [[8.138643546418699, 3.178283362648987]], h: 1.9998046875 z=1.999994063366303\n",
      "x: [[3.970450931740043, 8.901682482934037]], h: 1.9998046875 z=1.9999935486333051\n",
      "x: [[8.254162078009138, 1.0668708302947216]], h: 1.9998046875 z=1.9999887703479224\n",
      "x: [[1.5977587556820994, 6.512193086384681]], h: 1.9998046875 z=1.9999895078171794\n",
      "x: [[5.69064213493688, 9.84083673225108]], h: 1.9998046875 z=1.9999961057425484\n",
      "x: [[7.491590126592107, 8.023996308544096]], h: 1.9998046875 z=1.9999997586198843\n",
      "x: [[2.2830988000756203, 5.187134459531379]], h: 1.9998046875 z=1.9999934258774406\n",
      "x: [[6.301084031070082, 0.021853614451678993]], h: 1.9998046875 z=1.999987575556445\n",
      "x: [[5.1321476566597575, 4.49190168842061]], h: 1.9998046875 z=1.9999999383043323\n",
      "x: [[3.4935635039254787, 2.7368125937895416]], h: 1.9998046875 z=1.9999996149503214\n",
      "x: [[9.020828655740287, 0.3097445999927839]], h: 1.9998046875 z=1.9999877358812237\n",
      "x: [[3.2416908981897476, 2.8659274764898823]], h: 1.9998046875 z=1.9999999533103099\n",
      "x: [[9.571360786391782, 0.16533066065700153]], h: 1.9998046875 z=1.9999876358668922\n",
      "x: [[4.573236732306324, 3.2493579597898217]], h: 1.9998046875 z=1.9999991133719632\n",
      "x: [[6.964633960269621, 6.927497624448758]], h: 1.9998046875 z=1.9999999422835502\n",
      "x: [[6.826460692533826, 8.92130458020057]], h: 1.9998046875 z=1.9999986533725487\n",
      "x: [[9.45578002890112, 0.8180752537273339]], h: 1.9998046875 z=1.999988209500652\n",
      "x: [[1.1688922055159479, 0.3686896722387101]], h: 1.9998046875 z=1.9999924074603663\n",
      "x: [[9.23790206145181, 9.819007924132872]], h: 1.9998046875 z=1.999999783790662\n",
      "x: [[3.766252533157295, 0.6347600728517988]], h: 1.9998046875 z=1.999989403759669\n",
      "x: [[1.2785646320834831, 8.798888749341003]], h: 1.9998046875 z=1.9999881005218676\n",
      "x: [[4.540481348396135, 1.9949106219314483]], h: 1.9998046875 z=1.9999950937958537\n",
      "x: [[6.260318717851846, 7.764294055309055]], h: 1.9998046875 z=1.9999990210737848\n",
      "x: [[4.645481940313997, 0.4036681781485052]], h: 1.9998046875 z=1.9999882138222056\n",
      "x: [[3.7390115969627526, 8.669184474887572]], h: 1.9998046875 z=1.99999324066884\n",
      "x: [[1.0320552704938357, 1.125111197154588]], h: 1.9998046875 z=1.9999996951458263\n",
      "x: [[7.801340008451671, 1.3504882557468556]], h: 1.9998046875 z=1.9999894838557952\n",
      "x: [[1.2855847210937454, 2.405031749115257]], h: 1.9998046875 z=1.9999953140049929\n",
      "x: [[2.918107997017577, 3.3323647506481846]], h: 1.9998046875 z=1.9999994939720573\n",
      "x: [[7.921640161408444, 2.443469276804012]], h: 1.9998046875 z=1.9999922532924552\n",
      "x: [[1.0538486033958216, 1.1708072147137372]], h: 1.9998046875 z=1.9999996191086598\n",
      "x: [[3.593511253854894, 2.3394032837822367]], h: 1.9998046875 z=1.999998523576392\n",
      "x: [[8.281302262928289, 6.107876481070475]], h: 1.9998046875 z=1.999999326825906\n",
      "x: [[2.8999069447717316, 9.974384888659797]], h: 1.9998046875 z=1.999990338538138\n",
      "x: [[4.192417014520001, 8.94722694420039]], h: 1.9998046875 z=1.9999940139752568\n",
      "x: [[2.8824616441233486, 3.1344492222876132]], h: 1.9998046875 z=1.9999997046499622\n",
      "x: [[9.805614572788187, 0.8913686894923978]], h: 1.9998046875 z=1.9999882602916248\n"
     ]
    }
   ],
   "source": [
    "z = lambda x,threshold,default_error: default_error - error_function(x,threshold)\n",
    "\n",
    "default_error = 2.005\n",
    "# h_initial = \n",
    "\n",
    "data = []\n",
    "\n",
    "for x in sampleofICs: # \"initial condition\" ~ entire sample of data\n",
    "  h0 = 1.8 # h_initial*.9\n",
    "  h1 = 2.0 #h_initial*1.1\n",
    "  h = bisection(z,h0,h1,x,default_error,epsilon=0.0001)\n",
    "  print(f\"x: [{x}], h: {h} z={z(x,default_error)}\")\n",
    "  \n",
    "  data.append(h)"
   ]
  },
  {
   "cell_type": "markdown",
   "id": "VmDS20C-MTtv",
   "metadata": {
    "id": "VmDS20C-MTtv"
   },
   "source": [
    "###### display output in various ways\n"
   ]
  },
  {
   "cell_type": "code",
   "execution_count": 11,
   "id": "995a7aa0-92f1-4f5d-885c-99c0b8b222bf",
   "metadata": {
    "id": "995a7aa0-92f1-4f5d-885c-99c0b8b222bf"
   },
   "outputs": [
    {
     "data": {
      "image/png": "[encoded data removed]",
      "text/plain": [
       "<Figure size 800x600 with 2 Axes>"
      ]
     },
     "metadata": {},
     "output_type": "display_data"
    }
   ],
   "source": [
    "# Data\n",
    "x = [obs[0] for obs in sampleofICs]\n",
    "y = [obs[1] for obs in sampleofICs]\n",
    "z = data\n",
    "\n",
    "# Define grid\n",
    "grid_x,grid_y = np.meshgrid(np.linspace(0,10,100),np.linspace(0,10,100))\n",
    "\n",
    "# Interpolate values onto the grid\n",
    "grid_values = griddata((x,y),z,(grid_x,grid_y),method='linear')\n",
    "\n",
    "# Plot heatmap\n",
    "plt.figure(figsize=(8,6))\n",
    "plt.imshow(grid_values,extent=(0,10,0,10),origin='lower',cmap='coolwarm')\n",
    "plt.colorbar(label='Thresholds')\n",
    "plt.xlabel('x-coordinate')\n",
    "plt.ylabel('y-coordinate')\n",
    "plt.title('2D Heatmap of Thresholds')\n",
    "plt.show()\n"
   ]
  },
  {
   "cell_type": "code",
   "execution_count": 38,
   "id": "97a27a76-ec22-4e2a-bdf5-c516bdc8a81b",
   "metadata": {},
   "outputs": [
    {
     "name": "stdout",
     "output_type": "stream",
     "text": [
      "x: [[6.535895854646095, 1.1500694312440574]], h: 0.9982421875 z=0.005\n",
      "x: [[9.502828643490245, 4.821914014279982]], h: 0.9982421875 z=0.005\n",
      "x: [[8.724745351820353, 2.1233268092271995]], h: 0.9982421875 z=0.005\n",
      "x: [[0.40709624769089126, 3.971944613457058]], h: 0.9982421875 z=0.005\n",
      "x: [[2.3313219734837998, 8.417407242530615]], h: 0.9982421875 z=0.005\n",
      "x: [[2.070823443867469, 7.424695335824087]], h: 0.9982421875 z=0.005\n",
      "x: [[3.921541278088413, 1.8225651995238434]], h: 0.9982421875 z=0.005\n",
      "x: [[7.4353941459214, 0.6958208096995455]], h: 0.9982421875 z=0.005\n",
      "x: [[8.853372043807507, 9.526443992215418]], h: 0.9982421875 z=0.005\n",
      "x: [[9.311434346775108, 4.154309530449078]], h: 0.9982421875 z=0.005\n",
      "x: [[0.2898165938687125, 9.820274845981977]], h: 0.9982421875 z=0.005\n",
      "x: [[3.3963768363528857, 7.066871938888038]], h: 0.9982421875 z=0.005\n",
      "x: [[3.6187706760756178, 0.3510589795136143]], h: 0.9982421875 z=0.005\n",
      "x: [[8.55058253240408, 6.572535081404924]], h: 0.9982421875 z=0.005\n",
      "x: [[7.656829941452386, 5.5408723800439414]], h: 0.9982421875 z=0.005\n",
      "x: [[8.850929366105996, 9.041976153973623]], h: 0.9982421875 z=0.005\n",
      "x: [[0.10421700558954194, 0.7455673614242797]], h: 0.9982421875 z=0.005\n",
      "x: [[2.446292097597853, 1.3330475245148476]], h: 0.9982421875 z=0.005\n",
      "x: [[6.9792510040971925, 3.982048835259351]], h: 0.9982421875 z=0.005\n",
      "x: [[8.831221914041427, 1.8100751027370299]], h: 0.9982421875 z=0.005\n",
      "x: [[4.324991717920135, 0.18143202754672627]], h: 0.9982421875 z=0.005\n",
      "x: [[6.914378616888425, 4.696906520358368]], h: 0.9982421875 z=0.005\n",
      "x: [[1.2822218965364773, 8.913370512894591]], h: 0.9982421875 z=0.005\n",
      "x: [[9.182036244711153, 0.7312099367876845]], h: 0.9982421875 z=0.005\n",
      "x: [[0.45447943230045196, 4.38572895741653]], h: 0.9982421875 z=0.005\n",
      "x: [[6.017209299004595, 3.1022703396560014]], h: 0.9982421875 z=0.005\n",
      "x: [[6.819082419851493, 2.0901315084151517]], h: 0.9982421875 z=0.005\n",
      "x: [[5.196042972235348, 5.6598883056907034]], h: 0.9982421875 z=0.005\n",
      "x: [[4.411673925875769, 1.3755615720926728]], h: 0.9982421875 z=0.005\n",
      "x: [[2.135431911374628, 1.3337189210614298]], h: 0.9982421875 z=0.005\n",
      "x: [[3.222967014983108, 2.3388711517462912]], h: 0.9982421875 z=0.005\n",
      "x: [[5.274981560198206, 5.659711619765536]], h: 0.9982421875 z=0.005\n",
      "x: [[4.382252847860598, 3.2187262408010886]], h: 0.9982421875 z=0.005\n",
      "x: [[5.59640810692266, 8.653455811845067]], h: 0.9982421875 z=0.005\n",
      "x: [[8.472828773752214, 1.0781716598511137]], h: 0.9982421875 z=0.005\n",
      "x: [[3.1631948397428786, 4.094786588012881]], h: 0.9982421875 z=0.005\n",
      "x: [[6.870890139224494, 7.022352874732766]], h: 0.9982421875 z=0.005\n",
      "x: [[4.461979441521637, 4.203220780992133]], h: 0.9982421875 z=0.005\n",
      "x: [[8.026305910699381, 5.386175653186749]], h: 0.9982421875 z=0.005\n",
      "x: [[9.235004894140458, 0.6190753722469144]], h: 0.9982421875 z=0.005\n",
      "x: [[3.6758345333880693, 9.703987724504175]], h: 0.9982421875 z=0.005\n",
      "x: [[6.991039483608943, 8.909755799272393]], h: 0.9982421875 z=0.005\n",
      "x: [[2.5355271839494953, 7.255271058211084]], h: 0.9982421875 z=0.005\n",
      "x: [[2.034944349012008, 5.375118237365566]], h: 0.9982421875 z=0.005\n",
      "x: [[2.3694300372696753, 4.364921597693634]], h: 0.9982421875 z=0.005\n",
      "x: [[7.980245135219251, 3.0840916484027527]], h: 0.9982421875 z=0.005\n",
      "x: [[6.215166285021906, 4.396481176453596]], h: 0.9982421875 z=0.005\n",
      "x: [[9.133237054420864, 6.586859031511709]], h: 0.9982421875 z=0.005\n",
      "x: [[6.536314481152222, 3.5845778337969847]], h: 0.9982421875 z=0.005\n",
      "x: [[5.2294156720310445, 0.45087312324457507]], h: 0.9982421875 z=0.005\n",
      "x: [[0.9430966190368961, 9.216121930580364]], h: 0.9982421875 z=0.005\n",
      "x: [[0.730445013985126, 9.294173545410587]], h: 0.9982421875 z=0.005\n",
      "x: [[7.170151371222513, 6.2231054573934514]], h: 0.9982421875 z=0.005\n",
      "x: [[7.549897141156995, 1.416699089686273]], h: 0.9982421875 z=0.005\n",
      "x: [[7.938221976974498, 7.254031498883766]], h: 0.9982421875 z=0.005\n",
      "x: [[5.414392806173845, 4.825844931634286]], h: 0.9982421875 z=0.005\n",
      "x: [[4.764776103724863, 4.460328304400104]], h: 0.9982421875 z=0.005\n",
      "x: [[8.160700624071426, 2.743514933536939]], h: 0.9982421875 z=0.005\n",
      "x: [[0.6196200767784121, 9.602963416635683]], h: 0.9982421875 z=0.005\n",
      "x: [[4.5811812991573495, 7.578920644633033]], h: 0.9982421875 z=0.005\n",
      "x: [[6.811586028027742, 5.417779257734663]], h: 0.9982421875 z=0.005\n",
      "x: [[1.328324895589963, 2.532056348255165]], h: 0.9982421875 z=0.005\n",
      "x: [[4.438555930724907, 5.587499066699819]], h: 0.9982421875 z=0.005\n",
      "x: [[8.138643546418699, 3.178283362648987]], h: 0.9982421875 z=0.005\n",
      "x: [[3.970450931740043, 8.901682482934037]], h: 0.9982421875 z=0.005\n",
      "x: [[8.254162078009138, 1.0668708302947216]], h: 0.9982421875 z=0.005\n",
      "x: [[1.5977587556820994, 6.512193086384681]], h: 0.9982421875 z=0.005\n",
      "x: [[5.69064213493688, 9.84083673225108]], h: 0.9982421875 z=0.005\n",
      "x: [[7.491590126592107, 8.023996308544096]], h: 0.9982421875 z=0.005\n",
      "x: [[2.2830988000756203, 5.187134459531379]], h: 0.9982421875 z=0.005\n",
      "x: [[6.301084031070082, 0.021853614451678993]], h: 0.9982421875 z=0.005\n",
      "x: [[5.1321476566597575, 4.49190168842061]], h: 0.9982421875 z=0.005\n",
      "x: [[3.4935635039254787, 2.7368125937895416]], h: 0.9982421875 z=0.005\n",
      "x: [[9.020828655740287, 0.3097445999927839]], h: 0.9982421875 z=0.005\n",
      "x: [[3.2416908981897476, 2.8659274764898823]], h: 0.9982421875 z=0.005\n",
      "x: [[9.571360786391782, 0.16533066065700153]], h: 0.9982421875 z=0.005\n",
      "x: [[4.573236732306324, 3.2493579597898217]], h: 0.9982421875 z=0.005\n",
      "x: [[6.964633960269621, 6.927497624448758]], h: 0.9982421875 z=0.005\n",
      "x: [[6.826460692533826, 8.92130458020057]], h: 0.9982421875 z=0.005\n",
      "x: [[9.45578002890112, 0.8180752537273339]], h: 0.9982421875 z=0.005\n",
      "x: [[1.1688922055159479, 0.3686896722387101]], h: 0.9982421875 z=0.005\n",
      "x: [[9.23790206145181, 9.819007924132872]], h: 0.9982421875 z=0.005\n",
      "x: [[3.766252533157295, 0.6347600728517988]], h: 0.9982421875 z=0.005\n",
      "x: [[1.2785646320834831, 8.798888749341003]], h: 0.9982421875 z=0.005\n",
      "x: [[4.540481348396135, 1.9949106219314483]], h: 0.9982421875 z=0.005\n",
      "x: [[6.260318717851846, 7.764294055309055]], h: 0.9982421875 z=0.005\n",
      "x: [[4.645481940313997, 0.4036681781485052]], h: 0.9982421875 z=0.005\n",
      "x: [[3.7390115969627526, 8.669184474887572]], h: 0.9982421875 z=0.005\n",
      "x: [[1.0320552704938357, 1.125111197154588]], h: 0.9982421875 z=0.005\n",
      "x: [[7.801340008451671, 1.3504882557468556]], h: 0.9982421875 z=0.005\n",
      "x: [[1.2855847210937454, 2.405031749115257]], h: 0.9982421875 z=0.005\n",
      "x: [[2.918107997017577, 3.3323647506481846]], h: 0.9982421875 z=0.005\n",
      "x: [[7.921640161408444, 2.443469276804012]], h: 0.9982421875 z=0.005\n",
      "x: [[1.0538486033958216, 1.1708072147137372]], h: 0.9982421875 z=0.005\n",
      "x: [[3.593511253854894, 2.3394032837822367]], h: 0.9982421875 z=0.005\n",
      "x: [[8.281302262928289, 6.107876481070475]], h: 0.9982421875 z=0.005\n",
      "x: [[2.8999069447717316, 9.974384888659797]], h: 0.9982421875 z=0.005\n",
      "x: [[4.192417014520001, 8.94722694420039]], h: 0.9982421875 z=0.005\n",
      "x: [[2.8824616441233486, 3.1344492222876132]], h: 0.9982421875 z=0.005\n",
      "x: [[9.805614572788187, 0.8913686894923978]], h: 0.9982421875 z=0.005\n"
     ]
    }
   ],
   "source": [
    "z = lambda x,threshold,default_error: error_function(x,threshold) - default_error\n",
    "\n",
    "default_error = 0\n",
    "# h_initial = \n",
    "\n",
    "data = []\n",
    "\n",
    "for x in sampleofICs: # \"initial condition\" ~ entire sample of data\n",
    "  h0 = 0.1 # h_initial*.9\n",
    "  h1 = 1 #h_initial*1.1\n",
    "  h = bisection(z,h0,h1,x,default_error,epsilon=0.001)\n",
    "  print(f\"x: [{x}], h: {h} z={z(x,h,default_error)}\")\n",
    "  data.append(h)\n"
   ]
  },
  {
   "cell_type": "code",
   "execution_count": 39,
   "id": "8cc39b0b-7322-4793-979a-e66abced007b",
   "metadata": {},
   "outputs": [
    {
     "data": {
      "image/png": "[encoded data removed]",
      "text/plain": [
       "<Figure size 800x600 with 2 Axes>"
      ]
     },
     "metadata": {},
     "output_type": "display_data"
    }
   ],
   "source": [
    "# Data\n",
    "x = [obs[0] for obs in sampleofICs]\n",
    "y = [obs[1] for obs in sampleofICs]\n",
    "z = data\n",
    "\n",
    "# Define grid\n",
    "grid_x,grid_y = np.meshgrid(np.linspace(0,10,100),np.linspace(0,10,100))\n",
    "\n",
    "# Interpolate values onto the grid\n",
    "grid_values = griddata((x,y),z,(grid_x,grid_y),method='linear')\n",
    "\n",
    "# Plot heatmap\n",
    "plt.figure(figsize=(8,6))\n",
    "plt.imshow(grid_values,extent=(0,10,0,10),origin='lower',cmap='coolwarm')\n",
    "plt.colorbar(label='Thresholds')\n",
    "plt.xlabel('x-coordinate')\n",
    "plt.ylabel('y-coordinate')\n",
    "plt.title('2D Heatmap of Thresholds')\n",
    "plt.show()\n"
   ]
  },
  {
   "cell_type": "code",
   "execution_count": null,
   "id": "b143ffb7-43eb-4074-b867-ae0de9bd97cd",
   "metadata": {},
   "outputs": [],
   "source": []
  }
 ],
 "metadata": {
  "colab": {
   "collapsed_sections": [
    "1-4mB2MImDbK",
    "PcDJShjEyc4S",
    "zfz-g35oyZBO",
    "853a10d6-12ed-46c5-ba75-4bb6dddf556f",
    "bdef38a3-7c0f-4d0d-b15e-307b852d0b6c",
    "2KkfzynCDjlr",
    "VmDS20C-MTtv"
   ],
   "provenance": []
  },
  "kernelspec": {
   "display_name": "Python 3 (ipykernel)",
   "language": "python",
   "name": "python3"
  },
  "language_info": {
   "codemirror_mode": {
    "name": "ipython",
    "version": 3
   },
   "file_extension": ".py",
   "mimetype": "text/x-python",
   "name": "python",
   "nbconvert_exporter": "python",
   "pygments_lexer": "ipython3",
   "version": "3.10.14"
  }
 },
 "nbformat": 4,
 "nbformat_minor": 5
}
